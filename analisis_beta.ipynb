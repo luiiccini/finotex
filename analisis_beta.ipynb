{
 "cells": [
  {
   "cell_type": "markdown",
   "metadata": {},
   "source": [
    "# Creación de dataset de abandodo"
   ]
  },
  {
   "cell_type": "code",
   "execution_count": 1,
   "metadata": {},
   "outputs": [],
   "source": [
    "import pandas as pd\n",
    "import numpy as np\n",
    "import datetime as dt\n",
    "import sys\n",
    "import plotly.graph_objects as go\n",
    "import plotly.express as px"
   ]
  },
  {
   "cell_type": "code",
   "execution_count": 2,
   "metadata": {
    "scrolled": true
   },
   "outputs": [],
   "source": [
    "clientes = pd.DataFrame()\n",
    "clientes[\"Cliente\"] = [\"Cliente \" + str(i+1) for i in range(15)]\n",
    "clientes[\"Monto de facturación\"] = np.random.normal(1000,500,15).round()\n",
    "clientes[\"Semanas sin pedido\"] = abs(np.random.normal(6,4,15).round())"
   ]
  },
  {
   "cell_type": "code",
   "execution_count": 3,
   "metadata": {},
   "outputs": [],
   "source": [
    "import plotly"
   ]
  },
  {
   "cell_type": "markdown",
   "metadata": {},
   "source": [
    "## Visulización en heatmap"
   ]
  },
  {
   "cell_type": "code",
   "execution_count": 4,
   "metadata": {},
   "outputs": [
    {
     "data": {
      "text/plain": [
       "'heatmap_abandono.html'"
      ]
     },
     "execution_count": 4,
     "metadata": {},
     "output_type": "execute_result"
    }
   ],
   "source": [
    "fig = go.Figure(data=go.Heatmap(z=clientes[\"Monto de facturación\"],y=clientes[\"Cliente\"],\n",
    "                                x=clientes[\"Semanas sin pedido\"],colorscale='Blackbody',hoverongaps=False))\n",
    "\n",
    "fig.update_layout(\n",
    "    yaxis_nticks=50,\n",
    "    title=\"Abandono de clientes\",\n",
    "   xaxis_title=\"Días sin pedido\",\n",
    "    yaxis_title=\"Cliente\",\n",
    "    legend_title=\"Montro promedio de facturación\",\n",
    "    font=dict(\n",
    "        family=\"Courier New, monospace\",\n",
    "        size=10,\n",
    "        color=\"RebeccaPurple\"\n",
    "    )\n",
    ")\n",
    "\n",
    "\n",
    "plotly.offline.plot(fig, filename='heatmap_abandono.html')"
   ]
  },
  {
   "cell_type": "code",
   "execution_count": 8,
   "metadata": {},
   "outputs": [
    {
     "data": {
      "text/plain": [
       "'scatter_abandono.html'"
      ]
     },
     "execution_count": 8,
     "metadata": {},
     "output_type": "execute_result"
    }
   ],
   "source": [
    "fig = px.scatter(clientes, x=\"Cliente\", y=\"Semanas sin pedido\", size=\"Monto de facturación\",\n",
    "                 color='Cliente')\n",
    "fig.layout.update(showlegend=False,\n",
    "                  title='Intensidad de abandono',\n",
    "                 font=dict(\n",
    "        family=\"Courier New, monospace\",\n",
    "        size=12,\n",
    "        color=\"Black\"\n",
    "    ))\n",
    "\n",
    "fig.update_layout({\n",
    "#'plot_bgcolor': 'rgba(0, 0, 0, 0)',\n",
    "'paper_bgcolor': 'rgba(0, 0, 0, 0)',\n",
    "})\n",
    "\n",
    "\n",
    "plotly.offline.plot(fig, filename='scatter_abandono.html')"
   ]
  },
  {
   "cell_type": "code",
   "execution_count": 5,
   "metadata": {},
   "outputs": [],
   "source": [
    "operaciones = pd.DataFrame()\n",
    "vendedores = [\"Vendedor \" + str(i+1) for i in range(20)]\n",
    "status = [\"Llamada inicial\",\"Presentación\",\"Negociación\",\"Pedido\"]\n",
    "operaciones[\"Vendedor\"] = np.random.choice(vendedores,200)\n",
    "operaciones[\"Estatus\"] = np.random.choice(status,200)\n",
    "operaciones[\"Id_operacion\"] = list(range(200))\n",
    "operaciones['Vendedor'] = pd.Categorical(operaciones['Vendedor'],categories=vendedores,ordered=True)\n",
    "\n",
    "op = pd.pivot_table(operaciones,index='Vendedor',columns='Estatus',values='Id_operacion',aggfunc='count',fill_value=0)"
   ]
  },
  {
   "cell_type": "code",
   "execution_count": 6,
   "metadata": {},
   "outputs": [],
   "source": [
    "def df_to_plotly(df):\n",
    "    return {'z': df.values.tolist(),\n",
    "            'x': df.columns.tolist(),\n",
    "            'y': df.index.tolist()}"
   ]
  },
  {
   "cell_type": "code",
   "execution_count": 8,
   "metadata": {},
   "outputs": [
    {
     "data": {
      "text/plain": [
       "'intensidad_estatus.html'"
      ]
     },
     "execution_count": 8,
     "metadata": {},
     "output_type": "execute_result"
    }
   ],
   "source": [
    "fig = go.Figure(data=go.Heatmap(df_to_plotly(op),colorscale='YlGnBu',hoverongaps=False))\n",
    "\n",
    "fig.update_layout(\n",
    "    yaxis_nticks=50,\n",
    "    title=\"Estatus de negocio por vendedor\",\n",
    "    xaxis_title=\"Estatus\",\n",
    "    yaxis_title=\"Vendedor\",\n",
    "    legend_title=\"\",\n",
    "    font=dict(\n",
    "        family=\"Courier New, monospace\",\n",
    "        size=10,\n",
    "        color=\"RebeccaPurple\"\n",
    "    )\n",
    ")\n",
    "\n",
    "\n",
    "plotly.offline.plot(fig, filename='intensidad_estatus.html')"
   ]
  }
 ],
 "metadata": {
  "kernelspec": {
   "display_name": "Python 3",
   "language": "python",
   "name": "python3"
  },
  "language_info": {
   "codemirror_mode": {
    "name": "ipython",
    "version": 3
   },
   "file_extension": ".py",
   "mimetype": "text/x-python",
   "name": "python",
   "nbconvert_exporter": "python",
   "pygments_lexer": "ipython3",
   "version": "3.7.6"
  }
 },
 "nbformat": 4,
 "nbformat_minor": 4
}
